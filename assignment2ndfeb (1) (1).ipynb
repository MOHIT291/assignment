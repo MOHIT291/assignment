{
 "cells": [
  {
   "cell_type": "code",
   "execution_count": 1,
   "id": "9b13f044-d080-4ee4-9acb-56c620c7ba6c",
   "metadata": {},
   "outputs": [],
   "source": [
    "#QUESTUION = When to use for loop or while loop with example "
   ]
  },
  {
   "cell_type": "code",
   "execution_count": 2,
   "id": "3294ce0a-8830-4bd4-bbc6-18c4de71d64e",
   "metadata": {},
   "outputs": [
    {
     "name": "stdout",
     "output_type": "stream",
     "text": [
      "1\n",
      "2\n",
      "3\n",
      "4\n",
      "5\n",
      "6\n",
      "7\n",
      "8\n",
      "9\n",
      "10\n",
      "11\n"
     ]
    }
   ],
   "source": [
    "#ANSWER\n",
    "#FOR LOOP= if exact number of iteration or sequence is known then a For loop is used or prefered.\n",
    "#example:\n",
    "\n",
    "for i in range(1,12):\n",
    "    print(i)\n",
    "\n"
   ]
  },
  {
   "cell_type": "code",
   "execution_count": 5,
   "id": "154cb276-0eee-4eec-ad6e-fb24fa1e0d97",
   "metadata": {},
   "outputs": [
    {
     "name": "stdin",
     "output_type": "stream",
     "text": [
      "enter the age  4\n"
     ]
    },
    {
     "name": "stdout",
     "output_type": "stream",
     "text": [
      "invalid age \n"
     ]
    },
    {
     "name": "stdin",
     "output_type": "stream",
     "text": [
      "enter the age  12\n"
     ]
    },
    {
     "name": "stdout",
     "output_type": "stream",
     "text": [
      "invalid age \n"
     ]
    },
    {
     "name": "stdin",
     "output_type": "stream",
     "text": [
      "enter the age  34\n"
     ]
    },
    {
     "name": "stdout",
     "output_type": "stream",
     "text": [
      "valid age 34\n"
     ]
    }
   ],
   "source": [
    "#WHILE LOOP =if unknown termination condition or input validation condition is their then a while loop is used \n",
    "#example:\n",
    "valid_input = False\n",
    "while not valid_input:\n",
    "    age=int( input(\"enter the age \"))\n",
    "    if  age>=18:\n",
    "        valid_input= True\n",
    "        print( \"valid age\" , age)\n",
    "        \n",
    "    else: \n",
    "        print(\"invalid age \")\n",
    "        \n"
   ]
  },
  {
   "cell_type": "code",
   "execution_count": 6,
   "id": "2a4d663e-93a5-407e-9ffb-b6fe44714e0a",
   "metadata": {},
   "outputs": [],
   "source": [
    "#QUESTION 2:Program to print the sum and product of first 10 natural number using for loop and while loop\n",
    "#FOR LOOP\n"
   ]
  },
  {
   "cell_type": "code",
   "execution_count": 11,
   "id": "6cbd2bd3-5f57-4db2-afee-9bac193c2a73",
   "metadata": {},
   "outputs": [
    {
     "name": "stdout",
     "output_type": "stream",
     "text": [
      "sum of first 10 natural number is 45 product of first 10 natural numberis 362880\n"
     ]
    }
   ],
   "source": [
    "sum1=0\n",
    "product=1\n",
    "for i in range(1,10):\n",
    "    sum1=sum1+i\n",
    "    product = product * i\n",
    "    \n",
    "print(\"sum of first 10 natural number is\" ,sum1 ,\n",
    "      \"product of first 10 natural numberis\", product)\n"
   ]
  },
  {
   "cell_type": "code",
   "execution_count": 12,
   "id": "51efc8e6-c6ee-4bd7-86fd-c9a70b5c5dd9",
   "metadata": {},
   "outputs": [
    {
     "name": "stdout",
     "output_type": "stream",
     "text": [
      "sum of first 10 natural number is 45 product of first 10 natural numberis 362880\n"
     ]
    }
   ],
   "source": [
    "#while loop\n",
    "sum2=0\n",
    "product2=1\n",
    "n=1\n",
    "while n<=10:\n",
    "    sum2=sum2+i\n",
    "    product2 = product2 * i\n",
    "    n=n+1\n",
    "\n",
    "print(\"sum of first 10 natural number is\" ,sum1 ,\n",
    "      \"product of first 10 natural numberis\", product)\n"
   ]
  },
  {
   "cell_type": "code",
   "execution_count": 18,
   "id": "18a3f706-a5e7-49cf-92c8-93f3725357ac",
   "metadata": {},
   "outputs": [
    {
     "name": "stdin",
     "output_type": "stream",
     "text": [
      "enter the unit consumed 310\n"
     ]
    },
    {
     "name": "stdout",
     "output_type": "stream",
     "text": [
      "bill is 2250.0\n"
     ]
    }
   ],
   "source": [
    "\n",
    "\n",
    "#QUESTION 3 =Electricity bill\n",
    "unit=int(input (\"enter the unit consumed\"))\n",
    "bill=0\n",
    "if unit<=100:\n",
    "    bill=unit*4.5\n",
    "elif unit>100 and unit<=200:\n",
    "    bill= (100*4.5) +(unit-100)*6\n",
    "elif unit >200 and unit<=300:\n",
    "    bill = (100*4.5) + (100*6) + (unit-200)*10\n",
    "elif unit>300:\n",
    "    bill= (100*4.5) + (100*6) +(100*10) +(unit-300)*20\n",
    "    \n",
    "print (\"bill is\", bill)"
   ]
  },
  {
   "cell_type": "code",
   "execution_count": 3,
   "id": "1c483e87-d6e1-404e-97d7-d311e3ac6fab",
   "metadata": {},
   "outputs": [],
   "source": [
    "\n",
    "\n",
    "\n",
    "#QUESTION 4=Cube of a number of list from 1 to 100\n",
    "#FOR LOOP\n",
    "l=[ i for i in range(1,101)]\n"
   ]
  },
  {
   "cell_type": "code",
   "execution_count": 4,
   "id": "93d5c996-ebbc-40f5-974d-d75bf4f577ca",
   "metadata": {},
   "outputs": [],
   "source": [
    "l1=[]\n",
    "for i in l:\n",
    "    if (i**3)%4==0 or (i**3)%5==0:\n",
    "        l1.append(i)\n",
    "        "
   ]
  },
  {
   "cell_type": "code",
   "execution_count": 5,
   "id": "943f390f-8c9d-4244-912d-9d89517fae46",
   "metadata": {},
   "outputs": [
    {
     "data": {
      "text/plain": [
       "[2,\n",
       " 4,\n",
       " 5,\n",
       " 6,\n",
       " 8,\n",
       " 10,\n",
       " 12,\n",
       " 14,\n",
       " 15,\n",
       " 16,\n",
       " 18,\n",
       " 20,\n",
       " 22,\n",
       " 24,\n",
       " 25,\n",
       " 26,\n",
       " 28,\n",
       " 30,\n",
       " 32,\n",
       " 34,\n",
       " 35,\n",
       " 36,\n",
       " 38,\n",
       " 40,\n",
       " 42,\n",
       " 44,\n",
       " 45,\n",
       " 46,\n",
       " 48,\n",
       " 50,\n",
       " 52,\n",
       " 54,\n",
       " 55,\n",
       " 56,\n",
       " 58,\n",
       " 60,\n",
       " 62,\n",
       " 64,\n",
       " 65,\n",
       " 66,\n",
       " 68,\n",
       " 70,\n",
       " 72,\n",
       " 74,\n",
       " 75,\n",
       " 76,\n",
       " 78,\n",
       " 80,\n",
       " 82,\n",
       " 84,\n",
       " 85,\n",
       " 86,\n",
       " 88,\n",
       " 90,\n",
       " 92,\n",
       " 94,\n",
       " 95,\n",
       " 96,\n",
       " 98,\n",
       " 100]"
      ]
     },
     "execution_count": 5,
     "metadata": {},
     "output_type": "execute_result"
    }
   ],
   "source": [
    "l1\n"
   ]
  },
  {
   "cell_type": "code",
   "execution_count": 12,
   "id": "0e0759c3-4e14-4639-a327-1b0d4932b193",
   "metadata": {},
   "outputs": [
    {
     "data": {
      "text/plain": [
       "11"
      ]
     },
     "execution_count": 12,
     "metadata": {},
     "output_type": "execute_result"
    }
   ],
   "source": [
    "\n",
    "\n",
    "\n",
    "#QUESTION 5: Vowels in string \n",
    "s=\"I want to become a data scientist\"\n",
    "count =0\n",
    "for i in s:\n",
    "    if i== 'a' or i=='e' or i=='i' or i=='o'or i=='u':\n",
    "        count =count+1\n",
    "    \n",
    "count    \n"
   ]
  },
  {
   "cell_type": "code",
   "execution_count": null,
   "id": "df601838-0853-47f8-a41c-e95341ce7cfe",
   "metadata": {},
   "outputs": [],
   "source": []
  }
 ],
 "metadata": {
  "kernelspec": {
   "display_name": "Python 3 (ipykernel)",
   "language": "python",
   "name": "python3"
  },
  "language_info": {
   "codemirror_mode": {
    "name": "ipython",
    "version": 3
   },
   "file_extension": ".py",
   "mimetype": "text/x-python",
   "name": "python",
   "nbconvert_exporter": "python",
   "pygments_lexer": "ipython3",
   "version": "3.10.8"
  }
 },
 "nbformat": 4,
 "nbformat_minor": 5
}
