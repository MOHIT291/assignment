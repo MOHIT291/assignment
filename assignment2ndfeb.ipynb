{
 "cells": [
  {
   "cell_type": "code",
   "execution_count": 1,
   "id": "9b13f044-d080-4ee4-9acb-56c620c7ba6c",
   "metadata": {},
   "outputs": [],
   "source": [
    "#QUESTUION = When to use for loop or while loop with example "
   ]
  },
  {
   "cell_type": "code",
   "execution_count": 2,
   "id": "3294ce0a-8830-4bd4-bbc6-18c4de71d64e",
   "metadata": {},
   "outputs": [
    {
     "name": "stdout",
     "output_type": "stream",
     "text": [
      "1\n",
      "2\n",
      "3\n",
      "4\n",
      "5\n",
      "6\n",
      "7\n",
      "8\n",
      "9\n",
      "10\n",
      "11\n"
     ]
    }
   ],
   "source": [
    "#ANSWER\n",
    "#FOR LOOP= if exact number of iteration or sequence is known then a For loop is used or prefered.\n",
    "#example:\n",
    "\n",
    "for i in range(1,12):\n",
    "    print(i)\n",
    "\n"
   ]
  },
  {
   "cell_type": "code",
   "execution_count": 5,
   "id": "154cb276-0eee-4eec-ad6e-fb24fa1e0d97",
   "metadata": {},
   "outputs": [
    {
     "name": "stdin",
     "output_type": "stream",
     "text": [
      "enter the age  4\n"
     ]
    },
    {
     "name": "stdout",
     "output_type": "stream",
     "text": [
      "invalid age \n"
     ]
    },
    {
     "name": "stdin",
     "output_type": "stream",
     "text": [
      "enter the age  12\n"
     ]
    },
    {
     "name": "stdout",
     "output_type": "stream",
     "text": [
      "invalid age \n"
     ]
    },
    {
     "name": "stdin",
     "output_type": "stream",
     "text": [
      "enter the age  34\n"
     ]
    },
    {
     "name": "stdout",
     "output_type": "stream",
     "text": [
      "valid age 34\n"
     ]
    }
   ],
   "source": [
    "#WHILE LOOP =if unknown termination condition or input validation condition is their then a while loop is used \n",
    "#example:\n",
    "valid_input = False\n",
    "while not valid_input:\n",
    "    age=int( input(\"enter the age \"))\n",
    "    if  age>=18:\n",
    "        valid_input= True\n",
    "        print( \"valid age\" , age)\n",
    "        \n",
    "    else: \n",
    "        print(\"invalid age \")\n",
    "        \n"
   ]
  },
  {
   "cell_type": "code",
   "execution_count": null,
   "id": "2a4d663e-93a5-407e-9ffb-b6fe44714e0a",
   "metadata": {},
   "outputs": [],
   "source": []
  }
 ],
 "metadata": {
  "kernelspec": {
   "display_name": "Python 3 (ipykernel)",
   "language": "python",
   "name": "python3"
  },
  "language_info": {
   "codemirror_mode": {
    "name": "ipython",
    "version": 3
   },
   "file_extension": ".py",
   "mimetype": "text/x-python",
   "name": "python",
   "nbconvert_exporter": "python",
   "pygments_lexer": "ipython3",
   "version": "3.10.8"
  }
 },
 "nbformat": 4,
 "nbformat_minor": 5
}
